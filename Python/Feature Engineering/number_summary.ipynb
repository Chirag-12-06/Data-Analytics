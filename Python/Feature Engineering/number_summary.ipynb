{
 "cells": [
  {
   "cell_type": "markdown",
   "id": "15388776",
   "metadata": {},
   "source": [
    "## 5 Number Summary and Box Plot"
   ]
  },
  {
   "cell_type": "markdown",
   "id": "ed8d5639",
   "metadata": {},
   "source": [
    "## Minimum Maximum Median Q1 Q3 IQR"
   ]
  },
  {
   "cell_type": "code",
   "execution_count": 1,
   "id": "cc44ed35",
   "metadata": {},
   "outputs": [],
   "source": [
    "import numpy as np"
   ]
  },
  {
   "cell_type": "code",
   "execution_count": null,
   "id": "4d737748",
   "metadata": {},
   "outputs": [],
   "source": []
  }
 ],
 "metadata": {
  "kernelspec": {
   "display_name": "cleanenv (3.12.7)",
   "language": "python",
   "name": "python3"
  },
  "language_info": {
   "codemirror_mode": {
    "name": "ipython",
    "version": 3
   },
   "file_extension": ".py",
   "mimetype": "text/x-python",
   "name": "python",
   "nbconvert_exporter": "python",
   "pygments_lexer": "ipython3",
   "version": "3.12.7"
  }
 },
 "nbformat": 4,
 "nbformat_minor": 5
}
